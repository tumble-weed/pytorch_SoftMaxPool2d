{
 "cells": [
  {
   "cell_type": "code",
   "execution_count": 1,
   "metadata": {},
   "outputs": [],
   "source": [
    "import torch\n",
    "import SoftMaxPool2d\n",
    "import numpy as np"
   ]
  },
  {
   "cell_type": "code",
   "execution_count": 2,
   "metadata": {},
   "outputs": [
    {
     "name": "stdout",
     "output_type": "stream",
     "text": [
      "torch.Size([1, 32, 28, 28])\n"
     ]
    }
   ],
   "source": [
    "tsize = (1,32,28,28)\n",
    "v = torch.arange(int(np.prod(tsize))).float()\n",
    "t = v.view(tsize)\n",
    "print(t.shape)"
   ]
  },
  {
   "cell_type": "code",
   "execution_count": 3,
   "metadata": {},
   "outputs": [
    {
     "name": "stdout",
     "output_type": "stream",
     "text": [
      "torch.Size([1, 32, 14, 14])\n",
      "4\n"
     ]
    }
   ],
   "source": [
    "softmaxpool = SoftMaxPool2d.SoftMaxPool2d(1e-2,(2,2),2)\n",
    "p= softmaxpool(t)"
   ]
  },
  {
   "cell_type": "code",
   "execution_count": 5,
   "metadata": {},
   "outputs": [],
   "source": [
    "tensor_to_numpy = lambda t:t.detach().cpu().numpy()"
   ]
  },
  {
   "cell_type": "code",
   "execution_count": 17,
   "metadata": {
    "scrolled": false
   },
   "outputs": [
    {
     "name": "stdout",
     "output_type": "stream",
     "text": [
      "Input\n",
      "\n",
      " [[  0.   1.   2.   3.   4.   5.   6.   7.]\n",
      " [ 28.  29.  30.  31.  32.  33.  34.  35.]\n",
      " [ 56.  57.  58.  59.  60.  61.  62.  63.]\n",
      " [ 84.  85.  86.  87.  88.  89.  90.  91.]\n",
      " [112. 113. 114. 115. 116. 117. 118. 119.]\n",
      " [140. 141. 142. 143. 144. 145. 146. 147.]\n",
      " [168. 169. 170. 171. 172. 173. 174. 175.]\n",
      " [196. 197. 198. 199. 200. 201. 202. 203.]] \n",
      "\n",
      "--------------------------------------------------\n",
      "\n",
      " Pooled\n",
      "\n",
      " [[ 29.  31.  33.  35.]\n",
      " [ 85.  87.  89.  91.]\n",
      " [141. 143. 145. 147.]\n",
      " [197. 199. 201. 203.]]\n"
     ]
    }
   ],
   "source": [
    "chnl = 0\n",
    "softmaxpool.T = torch.tensor(1e-2).float()\n",
    "p= softmaxpool(t)\n",
    "print('Input\\n\\n',\n",
    "      tensor_to_numpy(t)[0,chnl,:8,:8],\n",
    "      '\\n\\n'+'-'*50+'\\n\\n',\n",
    "      'Pooled\\n\\n',\n",
    "      tensor_to_numpy(p)[0,chnl,:4,:4])"
   ]
  }
 ],
 "metadata": {
  "kernelspec": {
   "display_name": "Python 3",
   "language": "python",
   "name": "python3"
  },
  "language_info": {
   "codemirror_mode": {
    "name": "ipython",
    "version": 3
   },
   "file_extension": ".py",
   "mimetype": "text/x-python",
   "name": "python",
   "nbconvert_exporter": "python",
   "pygments_lexer": "ipython3",
   "version": "3.7.1"
  }
 },
 "nbformat": 4,
 "nbformat_minor": 2
}
